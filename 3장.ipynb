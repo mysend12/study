{
  "nbformat": 4,
  "nbformat_minor": 0,
  "metadata": {
    "colab": {
      "provenance": [],
      "mount_file_id": "1N423WwLaTHyv26h4wIn8TGttKG6Y_mOx",
      "authorship_tag": "ABX9TyNcrwVyMdQnlzu153wigwc9",
      "include_colab_link": true
    },
    "kernelspec": {
      "name": "python3",
      "display_name": "Python 3"
    },
    "language_info": {
      "name": "python"
    }
  },
  "cells": [
    {
      "cell_type": "markdown",
      "metadata": {
        "id": "view-in-github",
        "colab_type": "text"
      },
      "source": [
        "<a href=\"https://colab.research.google.com/github/mysend12/study/blob/main/3%EC%9E%A5.ipynb\" target=\"_parent\"><img src=\"https://colab.research.google.com/assets/colab-badge.svg\" alt=\"Open In Colab\"/></a>"
      ]
    },
    {
      "cell_type": "markdown",
      "source": [
        "# 협업 필터링 추천 시스템\n",
        "\n",
        "어떤 아이템에 대해 비슷한 취향을 가진 사람들은 다른 아이템 또한 비슷한 취향을 가질 것이다.  \n",
        "협업 필터링(Collaborative Filtering: CF)\n",
        "\n",
        "## 원리\n",
        "취향이 비슷한 사람들의 집단 존재한다고 가정  \n",
        "추천 대상의 유사 집단을 찾아서 그들이 좋아하는 아이템을 추천  \n",
        "\n",
        "CF에서는 사용자간의 유사도를 찾는것이 핵심\n",
        "\n",
        "## 유사도 지표\n",
        "\n",
        "### 상관계수\n",
        "- 가장 이해하기 쉬운 유사도\n",
        "- -1 ~ 1 사이의 값  \n",
        "-- 1인 경우 양의 상관관계\n",
        "-- -1에 가까우면 음의 상관관계\n",
        "- 0인 경우 상관관계가 없거나, U 형 상관관계 등 일반적이지 않은 상관관계\n",
        "\n",
        "### 코사인 유사도\n",
        "1. 협업 필터링에서 가장 널리 쓰이는 유사도\n",
        "2. 각 아이템 => 하나의 차원, 사용자의 평가값 => 좌표값\n",
        "3. 두 사용자의 평가값 유사 => theta는 작아지고, 코사인 값은 커짐\n",
        "4. -1 ~ 1 사이의 값\n",
        "5. 데이터 이진값(binary) => 타니모토 계수(tanimoto coefficient) 사용 권장\n",
        "\n",
        "\n",
        "### 자카드 계수\n",
        "1. 타니모토 계수의 변형 => 자카드 계수\n",
        "2. 이진수 데이터 => 좋은 결과\n",
        "\n",
        "\n",
        "## 기본 CF 알고리즘\n",
        "1. 모든 사용자 간 평가의 유사도 계산\n",
        "2. 추천 대상과 다른 사용자간 유사도 추출\n",
        "3. 추천 대상이 평가하지 않은 아이템에 대한 예상 평가값 계산\n",
        "- 평가값 = 다른 사용자 평가 * 다른 사용자 유사도\n",
        "4. 아이템 중 예상 평가값이 가장 높은 N개 추천"
      ],
      "metadata": {
        "id": "h6oeHBftD0aX"
      }
    },
    {
      "cell_type": "code",
      "execution_count": 14,
      "metadata": {
        "id": "UMrTazkTDheN",
        "colab": {
          "base_uri": "https://localhost:8080/"
        },
        "outputId": "317c887a-1001-41bc-8527-b2d0cebdb4fe"
      },
      "outputs": [
        {
          "output_type": "execute_result",
          "data": {
            "text/plain": [
              "1.0209780684067873"
            ]
          },
          "metadata": {},
          "execution_count": 14
        }
      ],
      "source": [
        "# 사용자 u.user 파일을 DataFrame으로 읽기\n",
        "\n",
        "import os\n",
        "import pandas as pd\n",
        "import numpy as np\n",
        "from sklearn.model_selection import train_test_split\n",
        "\n",
        "##### 데이터 불러오기 및 필요한 함수 정의 #####\n",
        "base_src = 'drive/MyDrive/RecoSys/Data'\n",
        "\n",
        "# user 데이터\n",
        "\n",
        "# user\n",
        "u_user_src = os.path.join(base_src, 'u.user')\n",
        "u_cols = ['user_id', 'age', 'sex', 'occupation', 'zip_code']\n",
        "users = pd.read_csv(\n",
        "    u_user_src,\n",
        "    sep='|',\n",
        "    names=u_cols,\n",
        "    encoding='latin-1'\n",
        ")\n",
        "users = users.set_index('user_id')\n",
        "\n",
        "# movie\n",
        "u_item_src = os.path.join(base_src, 'u.item')\n",
        "i_cols = ['movie_id', 'title', 'release data', 'video release data', 'IMDB URL', 'unknown', 'Action', 'Adventure', 'Animation',\n",
        "          'Children\\'s', 'Comedy', 'Crime', 'Documentary', 'Drama', 'Fantasy', 'Film-Noir', 'Horror', 'Musical', 'Mystery', 'Romance', 'Sci-Fi',\n",
        "          'Thriller', 'War', 'Western'\n",
        "          ]\n",
        "movies = pd.read_csv(u_item_src, sep='|', names=i_cols, encoding='latin-1')\n",
        "movies = movies.set_index('movie_id')\n",
        "\n",
        "# rating\n",
        "u_data_src = os.path.join(base_src, 'u.data')\n",
        "u_cols = ['user_id', 'movie_id', 'rating', 'timestamp']\n",
        "ratings = pd.read_csv(\n",
        "    u_data_src,\n",
        "    sep='\\t',\n",
        "    names=u_cols,\n",
        "    encoding='latin-1'\n",
        ")\n",
        "\n",
        "def RMSE(y_true, y_pred):\n",
        "  return np.sqrt(np.mean((np.array(y_true) - np.array(y_pred)) ** 2))\n",
        "\n",
        "# score(RMSE) 계산\n",
        "def score(model):\n",
        "  # 테스트 데이터의 user_id와 movie_id 간 pair를 맞춰 튜플형 원소 리스트 데이터를 만든다.\n",
        "  id_pairs = zip(x_test['user_id'], x_test['movie_id'])\n",
        "  # 모든 사용자-영화 짝에 대해서 주어진 예측 모델에 의해 예측값 계산 및 리스트형 데이터 생성\n",
        "  y_pred = np.array([model(user, movie) for (user, movie) in id_pairs])\n",
        "  # 실제 평점값\n",
        "  y_true = np.array(x_test['rating'])\n",
        "  return RMSE(y_true, y_pred)\n",
        "\n",
        "##### 데이터 셋 만들기 #####\n",
        "x = ratings.copy()\n",
        "y= ratings['user_id']\n",
        "\n",
        "x_train, x_test, y_train, y_test = train_test_split(x, y, test_size=0.25, stratify=y)\n",
        "ratings_matrix = x_train.pivot(index='user_id', columns = 'movie_id', values='rating')\n",
        "\n",
        "##### 코사인 유사도 계산 #####\n",
        "from sklearn.metrics.pairwise import cosine_similarity\n",
        "matrix_dummy = ratings_matrix.copy().fillna(0)\n",
        "user_similarity = cosine_similarity(matrix_dummy, matrix_dummy)\n",
        "user_similarity = pd.DataFrame(user_similarity, index=ratings_matrix.index, columns=ratings_matrix.index)\n",
        "\n",
        "##### 주어진 영화의(movie_id) 가중평균 rating을 계산하는 함수 #####\n",
        "def CF_simple(user_id, movie_id):\n",
        "  ## 지정한 movie_id가 rating metrix의 column 안에 있는 경우\n",
        "  if movie_id in ratings_matrix.columns:\n",
        "    ## 주어진 사용자와 다른 사용자간의 유사성을 추출하여 복제\n",
        "    sim_scores = user_similarity[user_id].copy()\n",
        "    ## 주어진 영화의 다른 사용자들에 의한 평가\n",
        "    movie_ratings = ratings_matrix[movie_id].copy()\n",
        "    ## 주어진 영화에 대해서 평가를 하지 않은 사용자의 인덱스를 추출\n",
        "    none_rating_idx = movie_ratings[movie_ratings.isnull()].index\n",
        "    ## 평가하지 않은 사용자들을 영화 평점에서 제외\n",
        "    movie_ratings = movie_ratings.dropna()\n",
        "    ## 평가하지 않은 사용자들을 유사도에서도 제외\n",
        "    sim_scores = sim_scores.drop(none_rating_idx)\n",
        "    ## 평가한 사람들을 가중평균하여 나누기\n",
        "    mean_rating = np.dot(sim_scores, movie_ratings) / sim_scores.sum()\n",
        "  else:\n",
        "    mean_rating = 3.0\n",
        "  return mean_rating\n",
        "\n",
        "##### 정확도 계산 #####\n",
        "score(CF_simple)\n",
        "\n"
      ]
    }
  ]
}